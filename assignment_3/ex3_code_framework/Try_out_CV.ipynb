{
 "cells": [
  {
   "cell_type": "code",
   "execution_count": 1,
   "metadata": {},
   "outputs": [],
   "source": [
    "import numpy as np\n",
    "import os\n",
    "import numpy.matlib"
   ]
  },
  {
   "cell_type": "code",
   "execution_count": 146,
   "metadata": {},
   "outputs": [
    {
     "data": {
      "text/plain": [
       "10"
      ]
     },
     "execution_count": 146,
     "metadata": {},
     "output_type": "execute_result"
    }
   ],
   "source": [
    "vec = np.array([[1,2,3,4,5.1,-6,7,8,9,10,11,-12]])\n",
    "max_indx = np.argmax(vec)\n",
    "max_indx\n"
   ]
  },
  {
   "cell_type": "code",
   "execution_count": 37,
   "metadata": {},
   "outputs": [
    {
     "name": "stdout",
     "output_type": "stream",
     "text": [
      "[[1 2]\n",
      " [3 4]]\n",
      "[[1 3]\n",
      " [2 4]]\n"
     ]
    },
    {
     "data": {
      "text/plain": [
       "[[1, 2], [3, 4]]"
      ]
     },
     "execution_count": 37,
     "metadata": {},
     "output_type": "execute_result"
    }
   ],
   "source": [
    "a = np.array([[1, 2], [3, 4]])\n",
    "print(a)\n",
    "print(a.T)\n",
    "a.tolist()"
   ]
  },
  {
   "cell_type": "code",
   "execution_count": 23,
   "metadata": {},
   "outputs": [
    {
     "data": {
      "text/plain": [
       "matrix([[ 1,  2,  3,  4],\n",
       "        [ 5, -6,  7,  8],\n",
       "        [ 9, 10, 11, 12]])"
      ]
     },
     "execution_count": 23,
     "metadata": {},
     "output_type": "execute_result"
    }
   ],
   "source": [
    "Mat = np.matrix([vec[0:4].tolist(),vec[4:8].tolist(),vec[8:12].tolist()])\n",
    "Mat"
   ]
  },
  {
   "cell_type": "code",
   "execution_count": 24,
   "metadata": {},
   "outputs": [
    {
     "data": {
      "text/plain": [
       "[4, 5, -6]"
      ]
     },
     "execution_count": 24,
     "metadata": {},
     "output_type": "execute_result"
    }
   ],
   "source": [
    "vec[3:6].tolist()"
   ]
  },
  {
   "cell_type": "code",
   "execution_count": null,
   "metadata": {},
   "outputs": [],
   "source": []
  },
  {
   "cell_type": "code",
   "execution_count": 25,
   "metadata": {},
   "outputs": [
    {
     "data": {
      "text/plain": [
       "matrix([[ 2],\n",
       "        [-6],\n",
       "        [10]])"
      ]
     },
     "execution_count": 25,
     "metadata": {},
     "output_type": "execute_result"
    }
   ],
   "source": [
    "Mat[0:3,1]"
   ]
  },
  {
   "cell_type": "code",
   "execution_count": 8,
   "metadata": {},
   "outputs": [
    {
     "data": {
      "text/plain": [
       "matrix([[ 1,  2,  3,  4],\n",
       "        [ 5, -6,  7,  8],\n",
       "        [ 9, 10, 11, 12]])"
      ]
     },
     "execution_count": 8,
     "metadata": {},
     "output_type": "execute_result"
    }
   ],
   "source": [
    "Mat"
   ]
  },
  {
   "cell_type": "code",
   "execution_count": 9,
   "metadata": {},
   "outputs": [],
   "source": [
    "d = np.diag(Mat)"
   ]
  },
  {
   "cell_type": "code",
   "execution_count": 10,
   "metadata": {},
   "outputs": [],
   "source": [
    "sig = np.sign(d)"
   ]
  },
  {
   "cell_type": "code",
   "execution_count": 11,
   "metadata": {},
   "outputs": [
    {
     "data": {
      "text/plain": [
       "array([[ 1,  0,  0],\n",
       "       [ 0, -1,  0],\n",
       "       [ 0,  0,  1]])"
      ]
     },
     "execution_count": 11,
     "metadata": {},
     "output_type": "execute_result"
    }
   ],
   "source": [
    "np.diag(sig)"
   ]
  },
  {
   "cell_type": "code",
   "execution_count": 15,
   "metadata": {},
   "outputs": [
    {
     "data": {
      "text/plain": [
       "array([[0., 0., 0., 0., 0., 0., 0., 0., 0., 0.],\n",
       "       [0., 0., 0., 0., 0., 0., 0., 0., 0., 0.],\n",
       "       [0., 0., 0., 0., 0., 0., 0., 0., 0., 0.],\n",
       "       [0., 0., 0., 0., 0., 0., 0., 0., 0., 0.],\n",
       "       [0., 0., 0., 0., 0., 0., 0., 0., 0., 0.],\n",
       "       [0., 0., 0., 0., 0., 0., 0., 0., 0., 0.],\n",
       "       [0., 0., 0., 0., 0., 0., 0., 0., 0., 0.],\n",
       "       [0., 0., 0., 0., 0., 0., 0., 0., 0., 0.],\n",
       "       [0., 0., 0., 0., 0., 0., 0., 0., 0., 0.],\n",
       "       [0., 0., 0., 0., 0., 0., 0., 0., 0., 0.],\n",
       "       [0., 0., 0., 0., 0., 0., 0., 0., 0., 0.],\n",
       "       [0., 0., 0., 0., 0., 0., 0., 0., 0., 0.]])"
      ]
     },
     "execution_count": 15,
     "metadata": {},
     "output_type": "execute_result"
    }
   ],
   "source": [
    "constraint_matrix = np.zeros((5 * 2, 12))\n",
    "constraint_matrix.T"
   ]
  },
  {
   "cell_type": "code",
   "execution_count": 74,
   "metadata": {},
   "outputs": [],
   "source": [
    "def MakeHomogeneous(pts, ax=0):\n",
    "  assert(pts.ndim <= 2)\n",
    "  assert(ax < pts.ndim)\n",
    "\n",
    "  if pts.ndim == 2:\n",
    "    num_pts = pts.shape[1-ax]\n",
    "    if ax == 0:\n",
    "      return np.append(pts, np.ones((1, num_pts)), ax)\n",
    "    else:\n",
    "      return np.append(pts, np.ones((num_pts, 1)), ax)\n",
    "\n",
    "  else:\n",
    "    return np.append(pts, 1)"
   ]
  },
  {
   "cell_type": "code",
   "execution_count": 81,
   "metadata": {},
   "outputs": [],
   "source": [
    "def HNormalize(pts, ax=0):\n",
    "  assert(pts.ndim <= 2)\n",
    "  assert(ax < pts.ndim)\n",
    "\n",
    "  if pts.ndim == 2:\n",
    "    print(\"hello\")\n",
    "    if ax == 0:\n",
    "      return pts[:-1,:] / pts[[-1], :]\n",
    "    else:\n",
    "      return pts[:,:-1] / pts[:, [-1]]\n",
    "\n",
    "  else:\n",
    "    return pts[:-1] / pts[-1]"
   ]
  },
  {
   "cell_type": "code",
   "execution_count": 87,
   "metadata": {},
   "outputs": [
    {
     "name": "stdout",
     "output_type": "stream",
     "text": [
      "[[0.5 0.2 0.6]\n",
      " [0.4 1.  0.7]\n",
      " [2.  1.  3. ]]\n",
      "2\n"
     ]
    }
   ],
   "source": [
    "pts = np.array([[0.5,0.2,0.6],[0.4,1,0.7],[2,1,3]])\n",
    "print(pts)\n",
    "print(pts.ndim)"
   ]
  },
  {
   "cell_type": "code",
   "execution_count": 86,
   "metadata": {},
   "outputs": [
    {
     "name": "stdout",
     "output_type": "stream",
     "text": [
      "hello\n"
     ]
    },
    {
     "data": {
      "text/plain": [
       "array([[0.25      , 0.2       , 0.2       ],\n",
       "       [0.2       , 1.        , 0.23333333]])"
      ]
     },
     "execution_count": 86,
     "metadata": {},
     "output_type": "execute_result"
    }
   ],
   "source": [
    "ptsN = HNormalize(pts, ax=0)\n",
    "ptsN"
   ]
  },
  {
   "cell_type": "code",
   "execution_count": 91,
   "metadata": {},
   "outputs": [
    {
     "name": "stdout",
     "output_type": "stream",
     "text": [
      "[[0.5 0.2]\n",
      " [0.4 1. ]]\n",
      "[[0.5 0.2]\n",
      " [0.4 1. ]\n",
      " [1.  1. ]]\n",
      "hello\n",
      "[[0.5 0.2]\n",
      " [0.4 1. ]]\n"
     ]
    }
   ],
   "source": [
    "pts2 = np.array([[0.5,0.2],[0.4,1]])\n",
    "ptsH = MakeHomogeneous(pts2, ax=0)\n",
    "print(pts2)\n",
    "print(ptsH)\n",
    "ptsN = HNormalize(ptsH, ax=0)\n",
    "print(ptsN)"
   ]
  },
  {
   "cell_type": "code",
   "execution_count": 107,
   "metadata": {},
   "outputs": [
    {
     "data": {
      "text/plain": [
       "array([[0.7652656 , 0.12632392, 0.17835585],\n",
       "       [0.37795525, 0.33770195, 0.76666532],\n",
       "       [0.30917551, 0.42255446, 0.98080091],\n",
       "       [0.62895276, 0.81430693, 0.20510072]])"
      ]
     },
     "execution_count": 107,
     "metadata": {},
     "output_type": "execute_result"
    }
   ],
   "source": [
    "temp = np.random.rand(4,3)\n",
    "temp"
   ]
  },
  {
   "cell_type": "code",
   "execution_count": 115,
   "metadata": {},
   "outputs": [
    {
     "name": "stdout",
     "output_type": "stream",
     "text": [
      "temp: [[0.14945543 0.23809275 0.91276219]\n",
      " [0.92662148 0.76602442 0.70716459]\n",
      " [0.53876747 0.91425086 0.82647064]\n",
      " [0.14004957 0.63976591 0.79195685]]\n",
      "temp.shape[0]:  4\n",
      "0\n",
      "2\n"
     ]
    }
   ],
   "source": [
    "temp = np.random.rand(4,3)\n",
    "print(\"temp:\", temp)\n",
    "num = temp.shape[0]\n",
    "print(\"temp.shape[0]: \",temp.shape[0])\n",
    "\n",
    "for i in range(0,num,2):\n",
    "    print(i)"
   ]
  },
  {
   "cell_type": "code",
   "execution_count": 2,
   "metadata": {},
   "outputs": [
    {
     "data": {
      "text/plain": [
       "dict"
      ]
     },
     "execution_count": 2,
     "metadata": {},
     "output_type": "execute_result"
    }
   ],
   "source": [
    "what = {}\n",
    "type(what)"
   ]
  },
  {
   "cell_type": "code",
   "execution_count": 103,
   "metadata": {},
   "outputs": [
    {
     "data": {
      "text/plain": [
       "True"
      ]
     },
     "execution_count": 103,
     "metadata": {},
     "output_type": "execute_result"
    }
   ],
   "source": [
    "filekp1 = \"/data/keypoints/0000.png.txt\"\n",
    "path = os.getcwd()+filekp1\n",
    "kp1 = np.loadtxt(path)\n",
    "#print(\"kp1\",kp1.shape)\n",
    "\n",
    "one = np.ones((kp1.shape[0],1))\n",
    "kp1H = np.concatenate((kp1, one), axis = 1)\n",
    "#print(\"kp1H\", kp1H)\n",
    "\n",
    "fileK = \"/data/images/K.txt\"\n",
    "pathK = os.getcwd()+fileK\n",
    "K = np.loadtxt(pathK)\n",
    "#print(\"K\",K)\n",
    "\n",
    "K_inv = np.linalg.inv(K)\n",
    "#print(\"K_inv\", K_inv.shape)\n",
    "\n",
    "np.set_printoptions(threshold=np.inf)\n",
    "kp1N = np.dot(K_inv,kp1H.T)\n",
    "kp1N_ = K_inv@kp1H.T\n",
    "#print(\"kp1N\", kp1N.shape)\n",
    "#kp1N.T\n",
    "np.allclose(kp1N,kp1N_)"
   ]
  },
  {
   "cell_type": "code",
   "execution_count": 69,
   "metadata": {},
   "outputs": [
    {
     "name": "stdout",
     "output_type": "stream",
     "text": [
      "kp1N (3, 4237)\n"
     ]
    },
    {
     "data": {
      "text/plain": [
       "array([[ 0.27669706, -0.35760231,  1.        ],\n",
       "       [ 0.14922014, -0.35706688,  1.        ],\n",
       "       [ 0.16362141, -0.35587665,  1.        ],\n",
       "       ...,\n",
       "       [ 0.22799948,  0.29618401,  1.        ],\n",
       "       [ 0.34169119,  0.31585364,  1.        ],\n",
       "       [ 0.11442736,  0.02586319,  1.        ]])"
      ]
     },
     "execution_count": 69,
     "metadata": {},
     "output_type": "execute_result"
    }
   ],
   "source": []
  },
  {
   "cell_type": "code",
   "execution_count": 75,
   "metadata": {},
   "outputs": [
    {
     "data": {
      "text/plain": [
       "array([[0., 0., 0., 0., 0., 0., 0., 0., 0.],\n",
       "       [0., 0., 0., 0., 0., 0., 0., 0., 0.],\n",
       "       [0., 0., 0., 0., 0., 0., 0., 0., 0.],\n",
       "       [0., 0., 0., 0., 0., 0., 0., 0., 0.],\n",
       "       [0., 0., 0., 0., 0., 0., 0., 0., 0.]])"
      ]
     },
     "execution_count": 75,
     "metadata": {},
     "output_type": "execute_result"
    }
   ],
   "source": [
    "constraint_matrix = np.zeros((5, 9))\n",
    "constraint_matrix"
   ]
  },
  {
   "cell_type": "code",
   "execution_count": 80,
   "metadata": {},
   "outputs": [
    {
     "data": {
      "text/plain": [
       "array([1., 2., 3., 4., 5., 6., 7., 8., 9.])"
      ]
     },
     "execution_count": 80,
     "metadata": {},
     "output_type": "execute_result"
    }
   ],
   "source": [
    "constraint_matrix[1,:] = [1,2,3,4,-5,6,7,8,-9]\n",
    "neun = constraint_matrix[1,:]\n",
    "neun"
   ]
  },
  {
   "cell_type": "code",
   "execution_count": 81,
   "metadata": {},
   "outputs": [
    {
     "data": {
      "text/plain": [
       "array([[1., 2., 3.],\n",
       "       [4., 5., 6.],\n",
       "       [7., 8., 9.]])"
      ]
     },
     "execution_count": 81,
     "metadata": {},
     "output_type": "execute_result"
    }
   ],
   "source": [
    "np.reshape(neun, (3,3))"
   ]
  },
  {
   "cell_type": "code",
   "execution_count": 88,
   "metadata": {},
   "outputs": [
    {
     "data": {
      "text/plain": [
       "array([[ 8.100e-04, -1.594e-01,  6.391e-04],\n",
       "       [ 3.371e-02, -2.713e-02,  7.056e-01],\n",
       "       [ 2.070e-03, -6.886e-01, -2.775e-02]])"
      ]
     },
     "execution_count": 88,
     "metadata": {},
     "output_type": "execute_result"
    }
   ],
   "source": [
    "E_hat = np.array([[8.10e-4,-0.1594, 6.391e-4], [3.371e-02, -2.713e-02,  7.056e-01],  [2.070e-03, -6.886e-01, -2.775e-02]])\n",
    "E_hat"
   ]
  },
  {
   "cell_type": "code",
   "execution_count": 98,
   "metadata": {},
   "outputs": [
    {
     "name": "stdout",
     "output_type": "stream",
     "text": [
      "u [[-0.21044641  0.08060891 -0.97427641]\n",
      " [-0.39667065 -0.91790936  0.0097367 ]\n",
      " [-0.89351257  0.38851591  0.22514592]]\n",
      "s [7.07406997e-01 7.06875402e-01 5.11817896e-06]\n",
      "vh [[-0.02175805  0.93239053 -0.36079702]\n",
      " [-0.04254385 -0.36141905 -0.93143239]\n",
      " [ 0.99885765  0.00491646 -0.04753126]]\n",
      "s zero [0.707407  0.7068754 0.       ]\n",
      "[[ 8.14980825e-04 -1.59399975e-01  6.38862984e-04]\n",
      " [ 3.37099502e-02 -2.71300002e-02  7.05600002e-01]\n",
      " [ 2.06884898e-03 -6.88600006e-01 -2.77499452e-02]]\n"
     ]
    },
    {
     "data": {
      "text/plain": [
       "False"
      ]
     },
     "execution_count": 98,
     "metadata": {},
     "output_type": "execute_result"
    }
   ],
   "source": [
    "u,s,vh = np.linalg.svd(E_hat)\n",
    "print(\"u\",u)\n",
    "print(\"s\",s)\n",
    "print(\"vh\",vh)\n",
    "s[2] = 0\n",
    "print(\"s zero\",s)\n",
    "E_reas = np.dot(u*s,vh)\n",
    "print(E_reas)\n",
    "np.allclose(E_hat,E_reas)"
   ]
  },
  {
   "cell_type": "code",
   "execution_count": 142,
   "metadata": {},
   "outputs": [
    {
     "name": "stdout",
     "output_type": "stream",
     "text": [
      "[[0.35067096 0.91132681 0.02939055]\n",
      " [0.02408278 0.77891254 0.54204828]\n",
      " [0.66801339 0.60694302 0.83561841]]\n",
      "[3 1 2]\n",
      "T2 [[0.35067096 0.91132681 0.02939055 3.        ]\n",
      " [0.02408278 0.77891254 0.54204828 1.        ]\n",
      " [0.66801339 0.60694302 0.83561841 2.        ]\n",
      " [0.         0.         0.         1.        ]]\n"
     ]
    }
   ],
   "source": [
    "R = np.random.rand(3,3)\n",
    "print(R)\n",
    "t = np.array([3,1,2]).T\n",
    "print(t)\n",
    "T = np.append(R, np.expand_dims(t, 1), 1)\n",
    "\n",
    "T = np.append(T, np.expand_dims([0,0,0,1],0), 0)\n",
    "print(\"T2\",T)\n"
   ]
  },
  {
   "cell_type": "code",
   "execution_count": 143,
   "metadata": {},
   "outputs": [
    {
     "data": {
      "text/plain": [
       "array([[1., 0., 0.],\n",
       "       [0., 1., 0.],\n",
       "       [0., 0., 1.]])"
      ]
     },
     "execution_count": 143,
     "metadata": {},
     "output_type": "execute_result"
    }
   ],
   "source": [
    "np.eye(3)"
   ]
  },
  {
   "cell_type": "code",
   "execution_count": 166,
   "metadata": {},
   "outputs": [
    {
     "name": "stdout",
     "output_type": "stream",
     "text": [
      "R [[-0.22942963  2.12694615 -1.94627459]\n",
      " [ 1.03397956  0.64702097  1.00394576]\n",
      " [-0.00323412  1.54231894 -0.18911568]\n",
      " [ 1.09220392  1.64080832 -0.27516103]\n",
      " [ 0.36501884 -0.03615568 -0.55894754]\n",
      " [-0.0662813  -0.25556682 -0.03629956]\n",
      " [ 0.49337581  1.25315434 -0.17028731]\n",
      " [-1.94076169  2.72085824 -0.36466621]\n",
      " [ 0.08962772 -1.59589238 -0.22232113]\n",
      " [-0.63639138  0.42656615  1.0840832 ]]\n",
      "r [[ 1.03397956  0.64702097  1.00394576]\n",
      " [-0.63639138  0.42656615  1.0840832 ]]\n",
      "[[0]\n",
      " [2]\n",
      " [3]\n",
      " [4]\n",
      " [5]\n",
      " [6]\n",
      " [7]\n",
      " [8]]\n",
      "[[-0.88413517  0.26885725 -0.48827145 -0.37294633 -0.68209473 -0.64210475\n",
      "   0.01551328  1.29367428  2.93695187  2.77157938]]\n"
     ]
    }
   ],
   "source": [
    "R = np.random.randn(10,3)\n",
    "corr = np.random.randn(1,10)\n",
    "print(\"R\",R)\n",
    "r = R[R[:,2]>=0,:]\n",
    "print(\"r\",r)\n",
    "\n",
    "idx = np.argwhere(R[:,2]<=0)\n",
    "print(idx)\n",
    "print(corr)"
   ]
  },
  {
   "cell_type": "code",
   "execution_count": 167,
   "metadata": {},
   "outputs": [
    {
     "data": {
      "text/plain": [
       "array([0.26885725, 2.77157938])"
      ]
     },
     "execution_count": 167,
     "metadata": {},
     "output_type": "execute_result"
    }
   ],
   "source": [
    "corr_new =np.delete(corr,idx)\n",
    "corr_new"
   ]
  },
  {
   "cell_type": "code",
   "execution_count": 3,
   "metadata": {},
   "outputs": [
    {
     "data": {
      "text/plain": [
       "array([[2.75948e+03, 0.00000e+00, 1.52069e+03],\n",
       "       [0.00000e+00, 2.76416e+03, 1.00681e+03],\n",
       "       [0.00000e+00, 0.00000e+00, 1.00000e+00]])"
      ]
     },
     "execution_count": 3,
     "metadata": {},
     "output_type": "execute_result"
    }
   ],
   "source": [
    "K = np.array([[2759.48, 0.00, 1520.69],[0.00, 2764.16, 1006.81],[0.00, 0.00, 1.00]])\n",
    "K"
   ]
  },
  {
   "cell_type": "code",
   "execution_count": 22,
   "metadata": {},
   "outputs": [
    {
     "data": {
      "text/plain": [
       "array([[ 3.62387116e-04,  0.00000000e+00, -5.51078464e-01],\n",
       "       [ 0.00000000e+00,  3.61773559e-04, -3.64237237e-01],\n",
       "       [ 0.00000000e+00,  0.00000000e+00,  1.00000000e+00]])"
      ]
     },
     "execution_count": 22,
     "metadata": {},
     "output_type": "execute_result"
    }
   ],
   "source": [
    "K_inv = np.linalg.inv(K)\n",
    "K_inv"
   ]
  },
  {
   "cell_type": "code",
   "execution_count": 26,
   "metadata": {},
   "outputs": [
    {
     "data": {
      "text/plain": [
       "array([1.984e+03, 9.910e+00, 1.000e+00])"
      ]
     },
     "execution_count": 26,
     "metadata": {},
     "output_type": "execute_result"
    }
   ],
   "source": [
    "xh = np.array([1984,9.91,1])\n",
    "xh"
   ]
  },
  {
   "cell_type": "code",
   "execution_count": 27,
   "metadata": {},
   "outputs": [
    {
     "data": {
      "text/plain": [
       "array([ 0.16789757, -0.36065206,  1.        ])"
      ]
     },
     "execution_count": 27,
     "metadata": {},
     "output_type": "execute_result"
    }
   ],
   "source": [
    "x_norm = np.dot(K_inv,xh)\n",
    "x_norm"
   ]
  },
  {
   "cell_type": "code",
   "execution_count": 28,
   "metadata": {},
   "outputs": [
    {
     "data": {
      "text/plain": [
       "array([ 0.16789757, -0.36065206,  1.        ])"
      ]
     },
     "execution_count": 28,
     "metadata": {},
     "output_type": "execute_result"
    }
   ],
   "source": [
    "np.dot( K_inv, xh.T).T"
   ]
  },
  {
   "cell_type": "code",
   "execution_count": 7,
   "metadata": {},
   "outputs": [
    {
     "name": "stdout",
     "output_type": "stream",
     "text": [
      "hello\n"
     ]
    }
   ],
   "source": [
    "a = [1]\n",
    "type(a)\n",
    "if a:\n",
    "    print(\"hello\")"
   ]
  },
  {
   "cell_type": "code",
   "execution_count": 27,
   "metadata": {},
   "outputs": [
    {
     "name": "stdout",
     "output_type": "stream",
     "text": [
      "[[0.00803253 0.93257698 0.71940707]]\n"
     ]
    },
    {
     "data": {
      "text/plain": [
       "array([[0.00803253, 0.93257698, 0.71940707],\n",
       "       [0.1373011 , 0.84316634, 0.46818359]])"
      ]
     },
     "execution_count": 27,
     "metadata": {},
     "output_type": "execute_result"
    }
   ],
   "source": [
    "D = np.zeros((0,3))\n",
    "D\n",
    "K = np.random.rand(1,3)\n",
    "print(K)\n",
    "Z = np.append(K,D,axis=0)\n",
    "Z\n",
    "P = np.random.rand(1,3)\n",
    "L = np.append(Z,P,axis=0)\n",
    "L"
   ]
  },
  {
   "cell_type": "code",
   "execution_count": 38,
   "metadata": {},
   "outputs": [
    {
     "ename": "TypeError",
     "evalue": "unhashable type: 'numpy.ndarray'",
     "output_type": "error",
     "traceback": [
      "\u001b[0;31m---------------------------------------------------------------------------\u001b[0m",
      "\u001b[0;31mTypeError\u001b[0m                                 Traceback (most recent call last)",
      "\u001b[0;32m<ipython-input-38-cf50ba9701d6>\u001b[0m in \u001b[0;36m<module>\u001b[0;34m\u001b[0m\n\u001b[1;32m      1\u001b[0m \u001b[0mcorrs\u001b[0m \u001b[0;34m=\u001b[0m \u001b[0;34m{\u001b[0m\u001b[0;34m}\u001b[0m\u001b[0;34m\u001b[0m\u001b[0;34m\u001b[0m\u001b[0m\n\u001b[1;32m      2\u001b[0m \u001b[0mK\u001b[0m \u001b[0;34m=\u001b[0m \u001b[0mnp\u001b[0m\u001b[0;34m.\u001b[0m\u001b[0mrandom\u001b[0m\u001b[0;34m.\u001b[0m\u001b[0mrand\u001b[0m\u001b[0;34m(\u001b[0m\u001b[0;36m1\u001b[0m\u001b[0;34m,\u001b[0m\u001b[0;36m3\u001b[0m\u001b[0;34m)\u001b[0m\u001b[0;34m\u001b[0m\u001b[0;34m\u001b[0m\u001b[0m\n\u001b[0;32m----> 3\u001b[0;31m \u001b[0mcorrs\u001b[0m\u001b[0;34m[\u001b[0m\u001b[0;34m\"hello\"\u001b[0m\u001b[0;34m]\u001b[0m \u001b[0;34m=\u001b[0m \u001b[0;34m{\u001b[0m\u001b[0mK\u001b[0m\u001b[0;34m[\u001b[0m\u001b[0;36m0\u001b[0m\u001b[0;34m,\u001b[0m\u001b[0;36m1\u001b[0m\u001b[0;34m:\u001b[0m\u001b[0;36m2\u001b[0m\u001b[0;34m]\u001b[0m\u001b[0;34m}\u001b[0m\u001b[0;34m\u001b[0m\u001b[0;34m\u001b[0m\u001b[0m\n\u001b[0m\u001b[1;32m      4\u001b[0m \u001b[0mcorrs\u001b[0m\u001b[0;34m\u001b[0m\u001b[0;34m\u001b[0m\u001b[0m\n",
      "\u001b[0;31mTypeError\u001b[0m: unhashable type: 'numpy.ndarray'"
     ]
    }
   ],
   "source": [
    "corrs = {}\n",
    "K = np.random.rand(1,3)\n",
    "corrs[\"hello\"] = {K[0,1:2]}\n",
    "corrs"
   ]
  },
  {
   "cell_type": "code",
   "execution_count": 45,
   "metadata": {},
   "outputs": [
    {
     "data": {
      "text/plain": [
       "{'times': [1, 2, [3, 4]]}"
      ]
     },
     "execution_count": 45,
     "metadata": {},
     "output_type": "execute_result"
    }
   ],
   "source": [
    "from collections import defaultdict\n",
    "my_dict = defaultdict(list)\n",
    "dict = {}\n",
    "type(dict)\n",
    "dict[\"times\"] = [1,2]\n",
    "dict[\"times\"].append([3,4])\n",
    "dict"
   ]
  },
  {
   "cell_type": "code",
   "execution_count": 6,
   "metadata": {},
   "outputs": [
    {
     "data": {
      "text/plain": [
       "[(1, 2, 3)]"
      ]
     },
     "execution_count": 6,
     "metadata": {},
     "output_type": "execute_result"
    }
   ],
   "source": [
    "a = []\n",
    "a.append((1,2,3))\n",
    "a"
   ]
  },
  {
   "cell_type": "code",
   "execution_count": 4,
   "metadata": {},
   "outputs": [
    {
     "ename": "ValueError",
     "evalue": "all the input arrays must have same number of dimensions, but the array at index 0 has 2 dimension(s) and the array at index 1 has 1 dimension(s)",
     "output_type": "error",
     "traceback": [
      "\u001b[0;31m---------------------------------------------------------------------------\u001b[0m",
      "\u001b[0;31mValueError\u001b[0m                                Traceback (most recent call last)",
      "\u001b[0;32m<ipython-input-4-1c630fc46e46>\u001b[0m in \u001b[0;36m<module>\u001b[0;34m\u001b[0m\n\u001b[0;32m----> 1\u001b[0;31m \u001b[0mb\u001b[0m\u001b[0;34m=\u001b[0m\u001b[0mnp\u001b[0m\u001b[0;34m.\u001b[0m\u001b[0mappend\u001b[0m\u001b[0;34m(\u001b[0m\u001b[0ma\u001b[0m\u001b[0;34m,\u001b[0m\u001b[0;34m[\u001b[0m\u001b[0;36m3\u001b[0m\u001b[0;34m,\u001b[0m\u001b[0;36m2\u001b[0m\u001b[0;34m,\u001b[0m\u001b[0;36m4\u001b[0m\u001b[0;34m]\u001b[0m\u001b[0;34m,\u001b[0m \u001b[0maxis\u001b[0m\u001b[0;34m=\u001b[0m\u001b[0;36m0\u001b[0m\u001b[0;34m)\u001b[0m\u001b[0;34m\u001b[0m\u001b[0;34m\u001b[0m\u001b[0m\n\u001b[0m\u001b[1;32m      2\u001b[0m \u001b[0mb\u001b[0m\u001b[0;34m\u001b[0m\u001b[0;34m\u001b[0m\u001b[0m\n",
      "\u001b[0;32m<__array_function__ internals>\u001b[0m in \u001b[0;36mappend\u001b[0;34m(*args, **kwargs)\u001b[0m\n",
      "\u001b[0;32m~/anaconda3/lib/python3.8/site-packages/numpy/lib/function_base.py\u001b[0m in \u001b[0;36mappend\u001b[0;34m(arr, values, axis)\u001b[0m\n\u001b[1;32m   4669\u001b[0m         \u001b[0mvalues\u001b[0m \u001b[0;34m=\u001b[0m \u001b[0mravel\u001b[0m\u001b[0;34m(\u001b[0m\u001b[0mvalues\u001b[0m\u001b[0;34m)\u001b[0m\u001b[0;34m\u001b[0m\u001b[0;34m\u001b[0m\u001b[0m\n\u001b[1;32m   4670\u001b[0m         \u001b[0maxis\u001b[0m \u001b[0;34m=\u001b[0m \u001b[0marr\u001b[0m\u001b[0;34m.\u001b[0m\u001b[0mndim\u001b[0m\u001b[0;34m-\u001b[0m\u001b[0;36m1\u001b[0m\u001b[0;34m\u001b[0m\u001b[0;34m\u001b[0m\u001b[0m\n\u001b[0;32m-> 4671\u001b[0;31m     \u001b[0;32mreturn\u001b[0m \u001b[0mconcatenate\u001b[0m\u001b[0;34m(\u001b[0m\u001b[0;34m(\u001b[0m\u001b[0marr\u001b[0m\u001b[0;34m,\u001b[0m \u001b[0mvalues\u001b[0m\u001b[0;34m)\u001b[0m\u001b[0;34m,\u001b[0m \u001b[0maxis\u001b[0m\u001b[0;34m=\u001b[0m\u001b[0maxis\u001b[0m\u001b[0;34m)\u001b[0m\u001b[0;34m\u001b[0m\u001b[0;34m\u001b[0m\u001b[0m\n\u001b[0m\u001b[1;32m   4672\u001b[0m \u001b[0;34m\u001b[0m\u001b[0m\n\u001b[1;32m   4673\u001b[0m \u001b[0;34m\u001b[0m\u001b[0m\n",
      "\u001b[0;32m<__array_function__ internals>\u001b[0m in \u001b[0;36mconcatenate\u001b[0;34m(*args, **kwargs)\u001b[0m\n",
      "\u001b[0;31mValueError\u001b[0m: all the input arrays must have same number of dimensions, but the array at index 0 has 2 dimension(s) and the array at index 1 has 1 dimension(s)"
     ]
    }
   ],
   "source": [
    "b=np.append(a,[3,2,4], axis=0)\n",
    "b"
   ]
  },
  {
   "cell_type": "code",
   "execution_count": 19,
   "metadata": {},
   "outputs": [
    {
     "data": {
      "text/plain": [
       "{'image1': array([[  1,  65],\n",
       "        [  2, 704]]),\n",
       " 'image2': array([[3, 5],\n",
       "        [2, 4]])}"
      ]
     },
     "execution_count": 19,
     "metadata": {},
     "output_type": "execute_result"
    }
   ],
   "source": [
    "dic = {'image1':np.array([[1,65],[2,704]]), 'image2':np.array([[3,5],[2,4]])}\n",
    "dic"
   ]
  },
  {
   "cell_type": "code",
   "execution_count": 23,
   "metadata": {},
   "outputs": [
    {
     "name": "stdout",
     "output_type": "stream",
     "text": [
      "image1\n",
      "[[  1  65]\n",
      " [  2 704]]\n",
      "(2, 2)\n",
      "image2\n",
      "[[3 5]\n",
      " [2 4]]\n",
      "(2, 2)\n"
     ]
    }
   ],
   "source": [
    "for i in dic:\n",
    "    print(i)\n",
    "    z = dic[i]\n",
    "    type(z)\n",
    "    print(z)\n",
    "    print(z.shape)"
   ]
  },
  {
   "cell_type": "code",
   "execution_count": 84,
   "metadata": {},
   "outputs": [
    {
     "name": "stdout",
     "output_type": "stream",
     "text": [
      "[[  1 100]\n",
      " [  3 200]\n",
      " [  4 300]\n",
      " [  5 400]]\n",
      "b [False False  True False]\n",
      "[2]\n",
      "idx 2\n"
     ]
    }
   ],
   "source": [
    "l = [1,3,4,5]\n",
    "u = [100,200,300,400]\n",
    "points3D = np.array([l,u]).T\n",
    "print(points3D)\n",
    "new_points3D = np.array([4,300]) \n",
    "b = (points3D == new_points3D).all(axis=1)\n",
    "print(\"b\",b)\n",
    "k = np.where(b)[0]\n",
    "print(k)\n",
    "idx = np.where((points3D == new_points3D).all(axis=1))[0][0]\n",
    "print(\"idx\",idx)"
   ]
  },
  {
   "cell_type": "code",
   "execution_count": 42,
   "metadata": {},
   "outputs": [
    {
     "data": {
      "text/plain": [
       "array([0, 1, 2, 3, 4, 5, 6, 7, 8, 9])"
      ]
     },
     "execution_count": 42,
     "metadata": {},
     "output_type": "execute_result"
    }
   ],
   "source": [
    "idx_im = np.arange(0,10,1)\n",
    "idx_im"
   ]
  },
  {
   "cell_type": "code",
   "execution_count": 50,
   "metadata": {},
   "outputs": [],
   "source": [
    "points3D = np.random.rand(4,3)\n",
    "points3D\n",
    "idx_imquery = []"
   ]
  },
  {
   "cell_type": "code",
   "execution_count": 53,
   "metadata": {},
   "outputs": [
    {
     "data": {
      "text/plain": [
       "[4, 4, 4]"
      ]
     },
     "execution_count": 53,
     "metadata": {},
     "output_type": "execute_result"
    }
   ],
   "source": [
    "idx_imquery.append(points3D.shape[0])\n",
    "idx_imquery"
   ]
  },
  {
   "cell_type": "code",
   "execution_count": 91,
   "metadata": {},
   "outputs": [
    {
     "name": "stdout",
     "output_type": "stream",
     "text": [
      "(3,)\n",
      "(1, 3)\n"
     ]
    },
    {
     "data": {
      "text/plain": [
       "array([[0.12842139, 0.42676106, 0.40771859]])"
      ]
     },
     "execution_count": 91,
     "metadata": {},
     "output_type": "execute_result"
    }
   ],
   "source": [
    "t = np.random.rand(3)\n",
    "print(t.shape)\n",
    "t = np.expand_dims(t,0)\n",
    "print(t.shape)\n",
    "t"
   ]
  },
  {
   "cell_type": "code",
   "execution_count": 8,
   "metadata": {},
   "outputs": [
    {
     "name": "stdout",
     "output_type": "stream",
     "text": [
      "[[0.99716096 0.16275563 0.2062707 ]\n",
      " [0.64549189 0.78444769 0.50945675]\n",
      " [0.37942652 0.54354385 0.46693881]\n",
      " [0.01662967 0.91939605 0.55669541]]\n",
      "[[0.80925166 0.13096694 0.71203953]\n",
      " [0.22753752 0.18665482 0.22597579]]\n",
      "[[0.99716096 0.16275563 0.2062707 ]\n",
      " [0.64549189 0.78444769 0.50945675]\n",
      " [0.37942652 0.54354385 0.46693881]\n",
      " [0.01662967 0.91939605 0.55669541]\n",
      " [0.80925166 0.13096694 0.71203953]\n",
      " [0.22753752 0.18665482 0.22597579]]\n"
     ]
    },
    {
     "data": {
      "text/plain": [
       "6"
      ]
     },
     "execution_count": 8,
     "metadata": {},
     "output_type": "execute_result"
    }
   ],
   "source": [
    "points3D = np.random.rand(4,3)\n",
    "print(points3D)\n",
    "new_points3D = np.random.rand(2,3)\n",
    "print(new_points3D)\n",
    "points3D = np.append(points3D, new_points3D, 0)\n",
    "print(points3D)\n",
    "points3D.shape[0]"
   ]
  },
  {
   "cell_type": "code",
   "execution_count": null,
   "metadata": {},
   "outputs": [],
   "source": []
  }
 ],
 "metadata": {
  "kernelspec": {
   "display_name": "Python 3",
   "language": "python",
   "name": "python3"
  },
  "language_info": {
   "codemirror_mode": {
    "name": "ipython",
    "version": 3
   },
   "file_extension": ".py",
   "mimetype": "text/x-python",
   "name": "python",
   "nbconvert_exporter": "python",
   "pygments_lexer": "ipython3",
   "version": "3.8.5"
  }
 },
 "nbformat": 4,
 "nbformat_minor": 4
}
