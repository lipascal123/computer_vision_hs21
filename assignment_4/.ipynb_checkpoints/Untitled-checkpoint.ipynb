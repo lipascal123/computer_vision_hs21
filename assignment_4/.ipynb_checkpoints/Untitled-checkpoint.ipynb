{
 "cells": [
  {
   "cell_type": "code",
   "execution_count": 2,
   "metadata": {},
   "outputs": [],
   "source": [
    "import numpy as np\n",
    "import torch"
   ]
  },
  {
   "cell_type": "code",
   "execution_count": 3,
   "metadata": {},
   "outputs": [],
   "source": [
    "# create input data\n",
    "B,C,H,W = 2,3,2,2\n",
    "D=3\n",
    "src_feat = torch.randint(low=0, high=10, size=(B,C,H,W))\n",
    "R_src = torch.eye(3)\n",
    "R_ref = torch.tensor([[ 1.0000000,  0.0000000,  0.0000000],[0.0000000,  0.9848077, -0.1736482],[0.0000000,  0.1736482,  0.9848077]])\n",
    "t_src = torch.zeros((1,3))\n",
    "t_ref = torch.tensor([0.2,0.3,0.1])\n",
    "T_src = torch.zeros((4,4))\n",
    "T_ref = torch.zeros((4,4))\n",
    "T_src[0:3,0:3] = R_src\n",
    "T_ref[0:3,0:3] = R_ref\n",
    "T_src[0:3,3] = t_src\n",
    "T_ref[0:3,3] = t_ref\n",
    "T_src[3,3] = 1\n",
    "T_ref[3,3] = 1\n",
    "\n",
    "T_src = torch.unsqueeze(T_src,0).repeat((B,1,1))\n",
    "T_ref = torch.unsqueeze(T_ref,0).repeat((B,1,1))"
   ]
  },
  {
   "cell_type": "code",
   "execution_count": 4,
   "metadata": {},
   "outputs": [],
   "source": [
    "rot = torch.tensor([[[ 1.0000,  0.0000,  0.0000],\n",
    "         [ 0.0000,  0.9848,  0.1736],\n",
    "         [ 0.0000, -0.1736,  0.9848]],\n",
    "\n",
    "        [[ 1.0000,  0.0000,  0.0000],\n",
    "         [ 0.0000,  0.9848,  0.1736],\n",
    "         [ 0.0000, -0.1736,  0.9848]]])"
   ]
  },
  {
   "cell_type": "code",
   "execution_count": 5,
   "metadata": {},
   "outputs": [],
   "source": [
    "trans = torch.tensor([[[-0.2000],\n",
    "         [-0.3128],\n",
    "         [-0.0464]],\n",
    "\n",
    "        [[-0.2000],\n",
    "         [-0.3128],\n",
    "         [-0.0464]]])"
   ]
  },
  {
   "cell_type": "code",
   "execution_count": 6,
   "metadata": {},
   "outputs": [],
   "source": [
    "y, x = torch.meshgrid([torch.arange(0, H, dtype=torch.float32),\n",
    "                               torch.arange(0, W, dtype=torch.float32)])\n",
    "y, x = y.contiguous(), x.contiguous() # memory reshape\n",
    "y, x = y.view(H * W), x.view(H * W) # reshape tensor\n",
    "# TODO\n",
    "# stack all reference image pixel coordinates\n",
    "uv1 = torch.vstack((x, y, torch.ones(x.shape))) # [3,H*W]"
   ]
  },
  {
   "cell_type": "code",
   "execution_count": 10,
   "metadata": {},
   "outputs": [
    {
     "data": {
      "text/plain": [
       "tensor([[[0.0000, 1.0000, 0.0000, 1.0000],\n",
       "         [0.1736, 0.1736, 1.1584, 1.1584],\n",
       "         [0.9848, 0.9848, 0.8112, 0.8112]],\n",
       "\n",
       "        [[0.0000, 1.0000, 0.0000, 1.0000],\n",
       "         [0.1736, 0.1736, 1.1584, 1.1584],\n",
       "         [0.9848, 0.9848, 0.8112, 0.8112]]])"
      ]
     },
     "execution_count": 10,
     "metadata": {},
     "output_type": "execute_result"
    }
   ],
   "source": [
    "# is uv1_b_rot correct?\n",
    "uv1_b1 = torch.tensor([[[0., 1., 0., 1.],\n",
    "         [0., 0., 1., 1.],\n",
    "         [1., 1., 1., 1.]],\n",
    "\n",
    "        [[0., 1., 0., 1.],\n",
    "         [0., 0., 1., 1.],\n",
    "         [1., 1., 1., 1.]]])\n",
    "torch.matmul(rot,uv1_b1)"
   ]
  },
  {
   "cell_type": "code",
   "execution_count": null,
   "metadata": {},
   "outputs": [],
   "source": [
    "# is uvd_b_rot correct?\n"
   ]
  },
  {
   "cell_type": "code",
   "execution_count": null,
   "metadata": {},
   "outputs": [],
   "source": []
  }
 ],
 "metadata": {
  "kernelspec": {
   "display_name": "Python 3",
   "language": "python",
   "name": "python3"
  },
  "language_info": {
   "codemirror_mode": {
    "name": "ipython",
    "version": 3
   },
   "file_extension": ".py",
   "mimetype": "text/x-python",
   "name": "python",
   "nbconvert_exporter": "python",
   "pygments_lexer": "ipython3",
   "version": "3.8.5"
  }
 },
 "nbformat": 4,
 "nbformat_minor": 4
}
