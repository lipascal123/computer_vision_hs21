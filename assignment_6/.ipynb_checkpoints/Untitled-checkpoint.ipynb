{
 "cells": [
  {
   "cell_type": "code",
   "execution_count": 1,
   "metadata": {},
   "outputs": [],
   "source": [
    "import numpy as np\n",
    "import torch\n"
   ]
  },
  {
   "cell_type": "code",
   "execution_count": 20,
   "metadata": {},
   "outputs": [
    {
     "name": "stdout",
     "output_type": "stream",
     "text": [
      "[[3 1]\n",
      " [2 4]]\n"
     ]
    },
    {
     "data": {
      "text/plain": [
       "array([3, 1, 0])"
      ]
     },
     "execution_count": 20,
     "metadata": {},
     "output_type": "execute_result"
    }
   ],
   "source": [
    "np.random.seed(3)\n",
    "frame = np.zeros((120,160,3))\n",
    "frame_toy = np.random.randint(low=1, high=9, size=(2,2))\n",
    "print(frame_toy)\n",
    "hist, _ = np.histogram(frame_toy, 3, range=(1,9))\n",
    "hist"
   ]
  },
  {
   "cell_type": "code",
   "execution_count": 18,
   "metadata": {},
   "outputs": [
    {
     "ename": "NameError",
     "evalue": "name 'n' is not defined",
     "output_type": "error",
     "traceback": [
      "\u001b[0;31m---------------------------------------------------------------------------\u001b[0m",
      "\u001b[0;31mNameError\u001b[0m                                 Traceback (most recent call last)",
      "\u001b[0;32m<ipython-input-18-ab0680a89434>\u001b[0m in \u001b[0;36m<module>\u001b[0;34m\u001b[0m\n\u001b[0;32m----> 1\u001b[0;31m \u001b[0mn\u001b[0m\u001b[0;34m\u001b[0m\u001b[0;34m\u001b[0m\u001b[0m\n\u001b[0m",
      "\u001b[0;31mNameError\u001b[0m: name 'n' is not defined"
     ]
    }
   ],
   "source": [
    "n"
   ]
  },
  {
   "cell_type": "code",
   "execution_count": 29,
   "metadata": {},
   "outputs": [
    {
     "name": "stdout",
     "output_type": "stream",
     "text": [
      "[[8 1 8 6 2]\n",
      " [6 1 6 7 2]]\n",
      "[[2. 0.]\n",
      " [0. 2.]]\n"
     ]
    },
    {
     "data": {
      "text/plain": [
       "array([[16.,  2., 16., 12.,  4.],\n",
       "       [12.,  2., 12., 14.,  4.]])"
      ]
     },
     "execution_count": 29,
     "metadata": {},
     "output_type": "execute_result"
    }
   ],
   "source": [
    "A = np.eye(2,2)*2\n",
    "x = np.random.randint(low=1, high=9, size=(5,2))\n",
    "print(x.T)\n",
    "print(A)\n",
    "np.matmul(A,x.T)"
   ]
  },
  {
   "cell_type": "code",
   "execution_count": 31,
   "metadata": {},
   "outputs": [
    {
     "data": {
      "text/plain": [
       "array([[1.],\n",
       "       [1.]])"
      ]
     },
     "execution_count": 31,
     "metadata": {},
     "output_type": "execute_result"
    }
   ],
   "source": [
    "np.ones((2,1))"
   ]
  },
  {
   "cell_type": "code",
   "execution_count": 32,
   "metadata": {},
   "outputs": [
    {
     "data": {
      "text/plain": [
       "array([[-2,  2],\n",
       "       [ 2,  4],\n",
       "       [ 7,  8],\n",
       "       [ 1,  0],\n",
       "       [ 8, -3]])"
      ]
     },
     "execution_count": 32,
     "metadata": {},
     "output_type": "execute_result"
    }
   ],
   "source": [
    "x = np.random.randint(low=-3, high=9, size=(5,2))\n",
    "x"
   ]
  },
  {
   "cell_type": "code",
   "execution_count": 42,
   "metadata": {},
   "outputs": [
    {
     "name": "stdout",
     "output_type": "stream",
     "text": [
      "[[ 2  4]\n",
      " [ 7  8]\n",
      " [ 1  0]\n",
      " [ 8 -3]]\n"
     ]
    },
    {
     "data": {
      "text/plain": [
       "array([[2, 4],\n",
       "       [7, 8]])"
      ]
     },
     "execution_count": 42,
     "metadata": {},
     "output_type": "execute_result"
    }
   ],
   "source": [
    "# only pos x values\n",
    "x_new = x[x[:,0]>=0,:]\n",
    "print(x_new)\n",
    "# only pos y values\n",
    "x_newnew = x_new[x_new[:,1]>=0,:]\n",
    "print(x_newnew)\n",
    "# in height\n"
   ]
  },
  {
   "cell_type": "code",
   "execution_count": 45,
   "metadata": {},
   "outputs": [
    {
     "data": {
      "text/plain": [
       "array([[1.],\n",
       "       [1.]])"
      ]
     },
     "execution_count": 45,
     "metadata": {},
     "output_type": "execute_result"
    }
   ],
   "source": [
    "np.ones((2,1))"
   ]
  },
  {
   "cell_type": "code",
   "execution_count": 14,
   "metadata": {},
   "outputs": [
    {
     "name": "stdout",
     "output_type": "stream",
     "text": [
      "[[1 1]\n",
      " [1 0]\n",
      " [1 1]]\n",
      "[[ 1.23866407]\n",
      " [-0.60555799]\n",
      " [-0.05183135]]\n",
      "nom1\n",
      " [[ 1.23866407  1.23866407]\n",
      " [-0.60555799 -0.        ]\n",
      " [-0.05183135 -0.05183135]]\n",
      "nom2\n",
      " [0.58127473 1.18683271]\n",
      "denom\n",
      " 0.5812747281373619\n",
      "[1.         2.04177587]\n"
     ]
    }
   ],
   "source": [
    "particles = np.random.randint(low=0,high=5,size=(3,2))\n",
    "print(particles)\n",
    "particles_w = np.random.normal(size=(3,1))\n",
    "print(particles_w)\n",
    "nom = particles*particles_w\n",
    "print(\"nom1\\n\",nom)\n",
    "nom = np.sum(nom,axis=0)\n",
    "print(\"nom2\\n\",nom)\n",
    "denom = np.sum(particles_w)\n",
    "print(\"denom\\n\",denom)\n",
    "mean = nom/denom \n",
    "print(mean)"
   ]
  },
  {
   "cell_type": "code",
   "execution_count": 2,
   "metadata": {},
   "outputs": [
    {
     "name": "stdout",
     "output_type": "stream",
     "text": [
      "[[1 4]\n",
      " [2 5]\n",
      " [4 6]\n",
      " [5 7]]\n",
      "idx [0 1 2 3]\n",
      "re idx [3 3 3 3]\n",
      "[[5 7]\n",
      " [5 7]\n",
      " [5 7]\n",
      " [5 7]]\n"
     ]
    },
    {
     "data": {
      "text/plain": [
       "array([20, 28])"
      ]
     },
     "execution_count": 2,
     "metadata": {},
     "output_type": "execute_result"
    }
   ],
   "source": [
    "part = np.array([[1,2,4,5],[4,5,6,7]]).T\n",
    "print(part)\n",
    "p = np.array([0.1,0.1,0.1,0.7])\n",
    "idx = np.arange(0,part.shape[0],1)\n",
    "print(\"idx\",idx)\n",
    "re_idx = np.random.choice(idx,size=part.shape[0],p=p)\n",
    "print(\"re idx\",re_idx)\n",
    "re_part = part[re_idx]\n",
    "print(re_part)\n",
    "np.sum(re_part,axis=0)"
   ]
  },
  {
   "cell_type": "code",
   "execution_count": 29,
   "metadata": {},
   "outputs": [
    {
     "name": "stdout",
     "output_type": "stream",
     "text": [
      "[[0 0 3 3 2]\n",
      " [4 3 2 4 1]]\n",
      "[[ 8]\n",
      " [14]]\n"
     ]
    },
    {
     "data": {
      "text/plain": [
       "array([[0.        , 0.        , 0.375     , 0.375     , 0.25      ],\n",
       "       [0.28571429, 0.21428571, 0.14285714, 0.28571429, 0.07142857]])"
      ]
     },
     "execution_count": 29,
     "metadata": {},
     "output_type": "execute_result"
    }
   ],
   "source": [
    "a = np.random.randint(low=0,high=5,size=(2,5))\n",
    "print(a)\n",
    "print(np.sum(a,axis=1,keepdims=True))\n",
    "a_norm = a / np.sum(a,axis=1,keepdims=True)\n",
    "a_norm"
   ]
  },
  {
   "cell_type": "code",
   "execution_count": null,
   "metadata": {},
   "outputs": [],
   "source": []
  }
 ],
 "metadata": {
  "kernelspec": {
   "display_name": "Python 3",
   "language": "python",
   "name": "python3"
  },
  "language_info": {
   "codemirror_mode": {
    "name": "ipython",
    "version": 3
   },
   "file_extension": ".py",
   "mimetype": "text/x-python",
   "name": "python",
   "nbconvert_exporter": "python",
   "pygments_lexer": "ipython3",
   "version": "3.8.5"
  }
 },
 "nbformat": 4,
 "nbformat_minor": 4
}
